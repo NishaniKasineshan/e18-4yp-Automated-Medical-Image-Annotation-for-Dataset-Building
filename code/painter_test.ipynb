{
 "cells": [
  {
   "cell_type": "code",
   "execution_count": 1,
   "metadata": {},
   "outputs": [
    {
     "name": "stdout",
     "output_type": "stream",
     "text": [
      "Wed Jun 19 08:09:03 2024       \n",
      "+---------------------------------------------------------------------------------------+\n",
      "| NVIDIA-SMI 545.23.06              Driver Version: 545.23.06    CUDA Version: 12.3     |\n",
      "|-----------------------------------------+----------------------+----------------------+\n",
      "| GPU  Name                 Persistence-M | Bus-Id        Disp.A | Volatile Uncorr. ECC |\n",
      "| Fan  Temp   Perf          Pwr:Usage/Cap |         Memory-Usage | GPU-Util  Compute M. |\n",
      "|                                         |                      |               MIG M. |\n",
      "|=========================================+======================+======================|\n",
      "|   0  NVIDIA RTX A6000               On  | 00000000:15:00.0 Off |                  Off |\n",
      "| 40%   61C    P8              17W / 300W |   1911MiB / 49140MiB |      0%      Default |\n",
      "|                                         |                      |                  N/A |\n",
      "+-----------------------------------------+----------------------+----------------------+\n",
      "|   1  NVIDIA RTX A6000               On  | 00000000:2D:00.0 Off |                  Off |\n",
      "| 76%   87C    P2             286W / 300W |  19039MiB / 49140MiB |     97%      Default |\n",
      "|                                         |                      |                  N/A |\n",
      "+-----------------------------------------+----------------------+----------------------+\n",
      "                                                                                         \n",
      "+---------------------------------------------------------------------------------------+\n",
      "| Processes:                                                                            |\n",
      "|  GPU   GI   CI        PID   Type   Process name                            GPU Memory |\n",
      "|        ID   ID                                                             Usage      |\n",
      "|=======================================================================================|\n",
      "|    0   N/A  N/A      1639      G   /usr/lib/xorg/Xorg                            4MiB |\n",
      "|    0   N/A  N/A    574094      C   /home/e19063/miniconda/bin/python          1894MiB |\n",
      "|    1   N/A  N/A      1639      G   /usr/lib/xorg/Xorg                            9MiB |\n",
      "|    1   N/A  N/A      1790      G   /usr/bin/gnome-shell                          5MiB |\n",
      "|    1   N/A  N/A    550025      C   python3                                   19008MiB |\n",
      "+---------------------------------------------------------------------------------------+\n"
     ]
    }
   ],
   "source": [
    "!nvidia-smi"
   ]
  },
  {
   "cell_type": "code",
   "execution_count": 2,
   "metadata": {},
   "outputs": [
    {
     "name": "stdout",
     "output_type": "stream",
     "text": [
      "/storage/scratch1/e18-4yp-medical-img-anno/Painter/Painter\n"
     ]
    }
   ],
   "source": [
    "%cd '/storage/scratch1/e18-4yp-medical-img-anno/Painter/Painter'"
   ]
  },
  {
   "cell_type": "code",
   "execution_count": 3,
   "metadata": {},
   "outputs": [],
   "source": [
    "# !wget https://huggingface.co/BAAI/Painter/resolve/main/painter_vit_large.pth"
   ]
  },
  {
   "cell_type": "code",
   "execution_count": 4,
   "metadata": {},
   "outputs": [
    {
     "name": "stdout",
     "output_type": "stream",
     "text": [
      "2.3.0\n",
      "True\n"
     ]
    }
   ],
   "source": [
    "import torch\n",
    "print(torch.__version__) #current version\n",
    "print(torch.cuda.is_available()) #check if GPU is available"
   ]
  },
  {
   "cell_type": "code",
   "execution_count": 5,
   "metadata": {},
   "outputs": [],
   "source": [
    "import os\n",
    "import random\n",
    "import shutil"
   ]
  },
  {
   "cell_type": "code",
   "execution_count": 24,
   "metadata": {},
   "outputs": [],
   "source": [
    "support_images_folder='/storage/scratch1/e18-4yp-medical-img-anno/evaluation/isic/support/images'\n",
    "support_labels_folder='/storage/scratch1/e18-4yp-medical-img-anno/evaluation/isic/support/labels'\n",
    "test_images_folder='/storage/scratch1/e18-4yp-medical-img-anno/evaluation/isic/test/images'\n",
    "test_labels_folder='/storage/scratch1/e18-4yp-medical-img-anno/evaluation/isic/test/labels'"
   ]
  },
  {
   "cell_type": "code",
   "execution_count": 25,
   "metadata": {},
   "outputs": [],
   "source": [
    "support_images=[]\n",
    "support_labels=[]\n",
    "test_images=[]\n",
    "test_labels=[]\n",
    "def create_arrays(arr,folder_path):\n",
    "    for file in sorted(os.listdir(folder_path)):\n",
    "        arr.append(os.path.join(folder_path,file))"
   ]
  },
  {
   "cell_type": "code",
   "execution_count": 26,
   "metadata": {},
   "outputs": [],
   "source": [
    "create_arrays(support_images,support_images_folder)\n",
    "create_arrays(support_labels,support_labels_folder)\n",
    "create_arrays(test_images,test_images_folder)\n",
    "create_arrays(test_labels,test_labels_folder)"
   ]
  },
  {
   "cell_type": "code",
   "execution_count": 27,
   "metadata": {},
   "outputs": [],
   "source": [
    "n_support=100\n",
    "_support_images=support_images[:n_support]\n",
    "_support_labels=support_labels[:n_support]"
   ]
  },
  {
   "cell_type": "code",
   "execution_count": 28,
   "metadata": {},
   "outputs": [
    {
     "data": {
      "text/plain": [
       "(['/storage/scratch1/e18-4yp-medical-img-anno/evaluation/isic/support/images/ISIC_0000000.jpg',\n",
       "  '/storage/scratch1/e18-4yp-medical-img-anno/evaluation/isic/support/images/ISIC_0000001.jpg',\n",
       "  '/storage/scratch1/e18-4yp-medical-img-anno/evaluation/isic/support/images/ISIC_0000003.jpg'],\n",
       " ['/storage/scratch1/e18-4yp-medical-img-anno/evaluation/isic/support/labels/ISIC_0000000_segmentation.png',\n",
       "  '/storage/scratch1/e18-4yp-medical-img-anno/evaluation/isic/support/labels/ISIC_0000001_segmentation.png',\n",
       "  '/storage/scratch1/e18-4yp-medical-img-anno/evaluation/isic/support/labels/ISIC_0000003_segmentation.png'])"
      ]
     },
     "execution_count": 28,
     "metadata": {},
     "output_type": "execute_result"
    }
   ],
   "source": [
    "_support_images[:3],_support_labels[:3]"
   ]
  },
  {
   "cell_type": "code",
   "execution_count": 29,
   "metadata": {},
   "outputs": [
    {
     "data": {
      "text/plain": [
       "(['/storage/scratch1/e18-4yp-medical-img-anno/evaluation/isic/test/images/ISIC_0000009.jpg',\n",
       "  '/storage/scratch1/e18-4yp-medical-img-anno/evaluation/isic/test/images/ISIC_0000015.jpg',\n",
       "  '/storage/scratch1/e18-4yp-medical-img-anno/evaluation/isic/test/images/ISIC_0000018.jpg'],\n",
       " ['/storage/scratch1/e18-4yp-medical-img-anno/evaluation/isic/test/labels/ISIC_0000009_segmentation.png',\n",
       "  '/storage/scratch1/e18-4yp-medical-img-anno/evaluation/isic/test/labels/ISIC_0000015_segmentation.png',\n",
       "  '/storage/scratch1/e18-4yp-medical-img-anno/evaluation/isic/test/labels/ISIC_0000018_segmentation.png'])"
      ]
     },
     "execution_count": 29,
     "metadata": {},
     "output_type": "execute_result"
    }
   ],
   "source": [
    "test_images[:3],test_labels[:3]"
   ]
  },
  {
   "cell_type": "code",
   "execution_count": 30,
   "metadata": {},
   "outputs": [
    {
     "data": {
      "text/plain": [
       "(779, 779)"
      ]
     },
     "execution_count": 30,
     "metadata": {},
     "output_type": "execute_result"
    }
   ],
   "source": [
    "len(test_images),len(test_labels)"
   ]
  },
  {
   "cell_type": "code",
   "execution_count": 31,
   "metadata": {},
   "outputs": [
    {
     "name": "stdout",
     "output_type": "stream",
     "text": [
      "Model loaded.\n",
      "Score: 0.3883923888206482\n",
      "Finished.\n",
      "Model loaded.\n",
      "Score: 0.3813982307910919\n",
      "Finished.\n",
      "Model loaded.\n",
      "Score: 0.0\n",
      "Finished.\n",
      "Model loaded.\n",
      "Score: 0.0\n",
      "Finished.\n",
      "Model loaded.\n",
      "Score: 0.91062992811203\n",
      "Finished.\n",
      "Model loaded.\n",
      "Score: 0.79804927110672\n",
      "Finished.\n",
      "Model loaded.\n",
      "Score: 0.8494773507118225\n",
      "Finished.\n",
      "Model loaded.\n",
      "Score: 0.3292924463748932\n",
      "Finished.\n",
      "Model loaded.\n",
      "Score: 0.9256299734115601\n",
      "Finished.\n",
      "Model loaded.\n",
      "Score: 0.9715166687965393\n",
      "Finished.\n",
      "Model loaded.\n",
      "Score: 0.2282124012708664\n",
      "Finished.\n",
      "Model loaded.\n",
      "Score: 0.9420163035392761\n",
      "Finished.\n",
      "Model loaded.\n",
      "Score: 0.24592871963977814\n",
      "Finished.\n",
      "Model loaded.\n",
      "Score: 0.05481835827231407\n",
      "Finished.\n",
      "Model loaded.\n",
      "Score: 0.5243638157844543\n",
      "Finished.\n",
      "Model loaded.\n",
      "Score: 0.19276855885982513\n",
      "Finished.\n",
      "Model loaded.\n",
      "Score: 0.3150918781757355\n",
      "Finished.\n",
      "Model loaded.\n",
      "Score: 0.9841998815536499\n",
      "Finished.\n",
      "Model loaded.\n",
      "Score: 0.9033409953117371\n",
      "Finished.\n",
      "Model loaded.\n",
      "Score: 0.3150714039802551\n",
      "Finished.\n",
      "Model loaded.\n",
      "Score: 0.3885502517223358\n",
      "Finished.\n",
      "Model loaded.\n",
      "Score: 0.08750569820404053\n",
      "Finished.\n",
      "Model loaded.\n",
      "Score: 0.25234299898147583\n",
      "Finished.\n",
      "Model loaded.\n",
      "Score: 0.9061967134475708\n",
      "Finished.\n",
      "Model loaded.\n",
      "Score: 0.947782039642334\n",
      "Finished.\n",
      "Model loaded.\n",
      "Score: 0.0\n",
      "Finished.\n",
      "Model loaded.\n",
      "Score: 0.656598687171936\n",
      "Finished.\n",
      "Model loaded.\n",
      "Score: 0.0\n",
      "Finished.\n",
      "Model loaded.\n",
      "Score: 0.0\n",
      "Finished.\n",
      "Model loaded.\n",
      "Score: 0.18291416764259338\n",
      "Finished.\n"
     ]
    }
   ],
   "source": [
    "import shutil\n",
    "prompt_images=\" \".join(_support_images[:32])\n",
    "prompt_labels=\" \".join(_support_labels[:32])\n",
    "\n",
    "for image_ in test_images[:30]:\n",
    "    label_=test_labels[test_images.index(image_)]\n",
    "    # image_,label_=os.path.join(images_folder, image), os.path.join(labels_folder, label)\n",
    "    # shutil.copy(label_,\"/storage/scratch1/e18-4yp-medical-img-anno/Painter/Painter/outputs/\"+os.path.basename(label_))\n",
    "    !python painter_inference.py --input_image $image_ --label_image $label_ --prompt_image $prompt_images --prompt_target $prompt_labels --output_dir outputs/isic/32\n"
   ]
  },
  {
   "cell_type": "code",
   "execution_count": 32,
   "metadata": {},
   "outputs": [
    {
     "data": {
      "text/plain": [
       "0.45606963771084946"
      ]
     },
     "execution_count": 32,
     "metadata": {},
     "output_type": "execute_result"
    }
   ],
   "source": [
    "import numpy as np\n",
    "scores=[]\n",
    "score_file = os.path.join('/storage/scratch1/e18-4yp-medical-img-anno/Painter/Painter/outputs/isic/32', 'scores.txt')\n",
    "with open(score_file, 'r') as f:\n",
    "    for line in f.readlines():\n",
    "        score = float(line.strip())\n",
    "        scores.append(score)\n",
    "\n",
    "np.array(scores).mean()"
   ]
  }
 ],
 "metadata": {
  "kernelspec": {
   "display_name": "test",
   "language": "python",
   "name": "python3"
  },
  "language_info": {
   "codemirror_mode": {
    "name": "ipython",
    "version": 3
   },
   "file_extension": ".py",
   "mimetype": "text/x-python",
   "name": "python",
   "nbconvert_exporter": "python",
   "pygments_lexer": "ipython3",
   "version": "3.1.-1"
  }
 },
 "nbformat": 4,
 "nbformat_minor": 2
}
