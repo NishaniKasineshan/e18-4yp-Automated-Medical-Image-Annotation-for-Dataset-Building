{
 "cells": [
  {
   "cell_type": "code",
   "execution_count": 2,
   "metadata": {},
   "outputs": [],
   "source": [
    "# !git clone https://github.com/baaivision/Painter"
   ]
  },
  {
   "cell_type": "code",
   "execution_count": 1,
   "metadata": {},
   "outputs": [
    {
     "name": "stdout",
     "output_type": "stream",
     "text": [
      "Wed Jun 19 07:53:47 2024       \n",
      "+---------------------------------------------------------------------------------------+\n",
      "| NVIDIA-SMI 545.23.06              Driver Version: 545.23.06    CUDA Version: 12.3     |\n",
      "|-----------------------------------------+----------------------+----------------------+\n",
      "| GPU  Name                 Persistence-M | Bus-Id        Disp.A | Volatile Uncorr. ECC |\n",
      "| Fan  Temp   Perf          Pwr:Usage/Cap |         Memory-Usage | GPU-Util  Compute M. |\n",
      "|                                         |                      |               MIG M. |\n",
      "|=========================================+======================+======================|\n"
     ]
    },
    {
     "name": "stdout",
     "output_type": "stream",
     "text": [
      "|   0  NVIDIA RTX A6000               On  | 00000000:15:00.0 Off |                  Off |\n",
      "| 77%   86C    P2             211W / 300W |   1911MiB / 49140MiB |     47%      Default |\n",
      "|                                         |                      |                  N/A |\n",
      "+-----------------------------------------+----------------------+----------------------+\n",
      "|   1  NVIDIA RTX A6000               On  | 00000000:2D:00.0 Off |                  Off |\n",
      "| 76%   87C    P2             288W / 300W |  19039MiB / 49140MiB |    100%      Default |\n",
      "|                                         |                      |                  N/A |\n",
      "+-----------------------------------------+----------------------+----------------------+\n",
      "                                                                                         \n",
      "+---------------------------------------------------------------------------------------+\n",
      "| Processes:                                                                            |\n",
      "|  GPU   GI   CI        PID   Type   Process name                            GPU Memory |\n",
      "|        ID   ID                                                             Usage      |\n",
      "|=======================================================================================|\n",
      "|    0   N/A  N/A      1639      G   /usr/lib/xorg/Xorg                            4MiB |\n",
      "|    0   N/A  N/A    574094      C   /home/e19063/miniconda/bin/python          1894MiB |\n",
      "|    1   N/A  N/A      1639      G   /usr/lib/xorg/Xorg                            9MiB |\n",
      "|    1   N/A  N/A      1790      G   /usr/bin/gnome-shell                          5MiB |\n",
      "|    1   N/A  N/A    550025      C   python3                                   19008MiB |\n",
      "+---------------------------------------------------------------------------------------+\n"
     ]
    }
   ],
   "source": [
    "!nvidia-smi"
   ]
  },
  {
   "cell_type": "code",
   "execution_count": 2,
   "metadata": {},
   "outputs": [
    {
     "name": "stdout",
     "output_type": "stream",
     "text": [
      "/storage/scratch1/e18-4yp-medical-img-anno/Painter/SegGPT/SegGPT_inference\n"
     ]
    }
   ],
   "source": [
    "%cd '/storage/scratch1/e18-4yp-medical-img-anno/Painter/SegGPT/SegGPT_inference'"
   ]
  },
  {
   "cell_type": "code",
   "execution_count": 3,
   "metadata": {},
   "outputs": [],
   "source": [
    "# !wget https://huggingface.co/BAAI/SegGPT/resolve/main/seggpt_vit_large.pth"
   ]
  },
  {
   "cell_type": "code",
   "execution_count": 4,
   "metadata": {},
   "outputs": [],
   "source": [
    "# !pip3 install -r requirements.txt"
   ]
  },
  {
   "cell_type": "code",
   "execution_count": 5,
   "metadata": {},
   "outputs": [
    {
     "name": "stdout",
     "output_type": "stream",
     "text": [
      "2.3.0\n",
      "True\n"
     ]
    }
   ],
   "source": [
    "import torch\n",
    "print(torch.__version__) #current version\n",
    "print(torch.cuda.is_available()) #check if GPU is available"
   ]
  },
  {
   "cell_type": "code",
   "execution_count": 6,
   "metadata": {},
   "outputs": [],
   "source": [
    "import os\n",
    "import random\n",
    "import shutil"
   ]
  },
  {
   "cell_type": "code",
   "execution_count": 7,
   "metadata": {},
   "outputs": [],
   "source": [
    "# images_folder=\"/storage/scratch1/e18-4yp-medical-img-anno/tufts/tufts/images\"\n",
    "# images_folder=\"/storage/scratch1/e18-4yp-medical-img-anno/wbc_images\"\n",
    "# images_folder=\"/storage/scratch1/e18-4yp-medical-img-anno/FS_Segmentation/FSMS-Surrogate/ISIC2018/ISIC2018_Task1-2_Training_Input\"\n",
    "# images_folder=\"/storage/scratch1/e18-4yp-medical-img-anno/oasis_images\""
   ]
  },
  {
   "cell_type": "code",
   "execution_count": 8,
   "metadata": {},
   "outputs": [],
   "source": [
    "# labels_folder=\"/storage/scratch1/e18-4yp-medical-img-anno/tufts/tufts/labels\"\n",
    "# labels_folder=\"/storage/scratch1/e18-4yp-medical-img-anno/isic_masks\"\n",
    "# labels_folder=\"/storage/scratch1/e18-4yp-medical-img-anno/wbc_masks\"\n",
    "# labels_folder=\"/storage/scratch1/e18-4yp-medical-img-anno/oasis_labels\""
   ]
  },
  {
   "cell_type": "code",
   "execution_count": 9,
   "metadata": {},
   "outputs": [],
   "source": [
    "# image_filenames = sorted(os.listdir(images_folder) )\n",
    "# mask_filenames = sorted( os.listdir(labels_folder) )"
   ]
  },
  {
   "cell_type": "code",
   "execution_count": 10,
   "metadata": {},
   "outputs": [],
   "source": [
    "# (len(image_filenames),len(mask_filenames))"
   ]
  },
  {
   "cell_type": "code",
   "execution_count": 11,
   "metadata": {},
   "outputs": [],
   "source": [
    "# combined_filenames = list(zip(image_filenames, mask_filenames))\n",
    "# random.shuffle(combined_filenames)\n",
    "# split_index = int(0.7 * len(combined_filenames))\n",
    "\n",
    "# support_filenames = combined_filenames[:split_index]\n",
    "# test_filenames = combined_filenames[split_index:]"
   ]
  },
  {
   "cell_type": "code",
   "execution_count": 12,
   "metadata": {},
   "outputs": [],
   "source": [
    "# (len(support_filenames),len(test_filenames))"
   ]
  },
  {
   "cell_type": "code",
   "execution_count": 13,
   "metadata": {},
   "outputs": [],
   "source": [
    "# test_filenames[:5]"
   ]
  },
  {
   "cell_type": "code",
   "execution_count": 14,
   "metadata": {},
   "outputs": [],
   "source": [
    "support_images_folder='/storage/scratch1/e18-4yp-medical-img-anno/evaluation/oasis/support/images'\n",
    "support_labels_folder='/storage/scratch1/e18-4yp-medical-img-anno/evaluation/oasis/support/labels'\n",
    "test_images_folder='/storage/scratch1/e18-4yp-medical-img-anno/evaluation/oasis/test/images'\n",
    "test_labels_folder='/storage/scratch1/e18-4yp-medical-img-anno/evaluation/oasis/test/labels'"
   ]
  },
  {
   "cell_type": "code",
   "execution_count": 15,
   "metadata": {},
   "outputs": [],
   "source": [
    "# support_images, support_labels = zip(*[(os.path.join(images_folder, image_filename), os.path.join(labels_folder, mask_filename)) for image_filename, mask_filename in support_filenames])"
   ]
  },
  {
   "cell_type": "code",
   "execution_count": 16,
   "metadata": {},
   "outputs": [],
   "source": [
    "# save_support_images='/storage/scratch1/e18-4yp-medical-img-anno/evaluation/oasis/support/images'\n",
    "# save_support_labels='/storage/scratch1/e18-4yp-medical-img-anno/evaluation/oasis/support/labels'"
   ]
  },
  {
   "cell_type": "code",
   "execution_count": 17,
   "metadata": {},
   "outputs": [],
   "source": [
    "# def copy_files(file_paths, destination_folder):\n",
    "#     for file_path in file_paths:\n",
    "#         if os.path.exists(file_path):\n",
    "#             destination_path = os.path.join(destination_folder, os.path.basename(file_path))\n",
    "#             shutil.copy(file_path, destination_path)\n",
    "#             print(f\"Copied {file_path} to {destination_path}\")\n",
    "#         else:\n",
    "#             print(f\"File {file_path} does not exist and cannot be copied\")\n"
   ]
  },
  {
   "cell_type": "code",
   "execution_count": 18,
   "metadata": {},
   "outputs": [],
   "source": [
    "# # Copy the support images\n",
    "# print(\"Start Copying Images....\")\n",
    "# copy_files(support_images, save_support_images)\n",
    "# print(\"Start Copying Labels.....\")\n",
    "# # Copy the support labels\n",
    "# copy_files(support_labels, save_support_labels)"
   ]
  },
  {
   "cell_type": "code",
   "execution_count": 19,
   "metadata": {},
   "outputs": [],
   "source": [
    "# test_images, test_labels = zip(*[(os.path.join(images_folder, image_filename), os.path.join(labels_folder, mask_filename)) for image_filename, mask_filename in test_filenames])"
   ]
  },
  {
   "cell_type": "code",
   "execution_count": 20,
   "metadata": {},
   "outputs": [],
   "source": [
    "# save_test_images='/storage/scratch1/e18-4yp-medical-img-anno/evaluation/oasis/test/images'\n",
    "# save_test_labels='/storage/scratch1/e18-4yp-medical-img-anno/evaluation/oasis/test/labels'"
   ]
  },
  {
   "cell_type": "code",
   "execution_count": 21,
   "metadata": {},
   "outputs": [],
   "source": [
    "# # Copy the support images\n",
    "# print(\"Start Copying Images....\")\n",
    "# copy_files(test_images, save_test_images)\n",
    "# print(\"Start Copying Labels.....\")\n",
    "# # Copy the support labels\n",
    "# copy_files(test_labels, save_test_labels)"
   ]
  },
  {
   "cell_type": "code",
   "execution_count": 22,
   "metadata": {},
   "outputs": [],
   "source": [
    "support_images=[]\n",
    "support_labels=[]\n",
    "test_images=[]\n",
    "test_labels=[]\n",
    "def create_arrays(arr,folder_path):\n",
    "    for file in sorted(os.listdir(folder_path)):\n",
    "        arr.append(os.path.join(folder_path,file))"
   ]
  },
  {
   "cell_type": "code",
   "execution_count": 23,
   "metadata": {},
   "outputs": [],
   "source": [
    "create_arrays(support_images,support_images_folder)\n",
    "create_arrays(support_labels,support_labels_folder)\n",
    "create_arrays(test_images,test_images_folder)\n",
    "create_arrays(test_labels,test_labels_folder)"
   ]
  },
  {
   "cell_type": "code",
   "execution_count": 24,
   "metadata": {},
   "outputs": [],
   "source": [
    "# len(support_images)"
   ]
  },
  {
   "cell_type": "code",
   "execution_count": 25,
   "metadata": {},
   "outputs": [],
   "source": [
    "n_support=100\n",
    "_support_images=support_images[:n_support]\n",
    "_support_labels=support_labels[:n_support]"
   ]
  },
  {
   "cell_type": "code",
   "execution_count": 26,
   "metadata": {},
   "outputs": [
    {
     "data": {
      "text/plain": [
       "(['/storage/scratch1/e18-4yp-medical-img-anno/evaluation/oasis/support/images/OASIS_OAS1_0001_MR1.jpg',\n",
       "  '/storage/scratch1/e18-4yp-medical-img-anno/evaluation/oasis/support/images/OASIS_OAS1_0003_MR1.jpg',\n",
       "  '/storage/scratch1/e18-4yp-medical-img-anno/evaluation/oasis/support/images/OASIS_OAS1_0004_MR1.jpg'],\n",
       " ['/storage/scratch1/e18-4yp-medical-img-anno/evaluation/oasis/support/labels/OASIS_OAS1_0001_MR1.jpg',\n",
       "  '/storage/scratch1/e18-4yp-medical-img-anno/evaluation/oasis/support/labels/OASIS_OAS1_0003_MR1.jpg',\n",
       "  '/storage/scratch1/e18-4yp-medical-img-anno/evaluation/oasis/support/labels/OASIS_OAS1_0004_MR1.jpg'])"
      ]
     },
     "execution_count": 26,
     "metadata": {},
     "output_type": "execute_result"
    }
   ],
   "source": [
    "_support_images[:3],_support_labels[:3]"
   ]
  },
  {
   "cell_type": "code",
   "execution_count": 27,
   "metadata": {},
   "outputs": [
    {
     "data": {
      "text/plain": [
       "['/storage/scratch1/e18-4yp-medical-img-anno/evaluation/oasis/test/images/OASIS_OAS1_0002_MR1.jpg',\n",
       " '/storage/scratch1/e18-4yp-medical-img-anno/evaluation/oasis/test/images/OASIS_OAS1_0006_MR1.jpg',\n",
       " '/storage/scratch1/e18-4yp-medical-img-anno/evaluation/oasis/test/images/OASIS_OAS1_0007_MR1.jpg']"
      ]
     },
     "execution_count": 27,
     "metadata": {},
     "output_type": "execute_result"
    }
   ],
   "source": [
    "test_images[:3]"
   ]
  },
  {
   "cell_type": "code",
   "execution_count": 28,
   "metadata": {},
   "outputs": [
    {
     "data": {
      "text/plain": [
       "['/storage/scratch1/e18-4yp-medical-img-anno/evaluation/oasis/test/labels/OASIS_OAS1_0002_MR1.jpg',\n",
       " '/storage/scratch1/e18-4yp-medical-img-anno/evaluation/oasis/test/labels/OASIS_OAS1_0006_MR1.jpg',\n",
       " '/storage/scratch1/e18-4yp-medical-img-anno/evaluation/oasis/test/labels/OASIS_OAS1_0007_MR1.jpg']"
      ]
     },
     "execution_count": 28,
     "metadata": {},
     "output_type": "execute_result"
    }
   ],
   "source": [
    "test_labels[:3]"
   ]
  },
  {
   "cell_type": "code",
   "execution_count": 29,
   "metadata": {},
   "outputs": [
    {
     "data": {
      "text/plain": [
       "(125, 125)"
      ]
     },
     "execution_count": 29,
     "metadata": {},
     "output_type": "execute_result"
    }
   ],
   "source": [
    "len(test_images),len(test_labels)"
   ]
  },
  {
   "cell_type": "code",
   "execution_count": 29,
   "metadata": {},
   "outputs": [],
   "source": [
    "# image,label= test_filenames[1]\n",
    "# image,label=os.path.join(images_folder, image), os.path.join(labels_folder, label)\n",
    "# image,label"
   ]
  },
  {
   "cell_type": "code",
   "execution_count": 45,
   "metadata": {},
   "outputs": [],
   "source": [
    "# !pip3 install timm==0.4.12"
   ]
  },
  {
   "cell_type": "code",
   "execution_count": 46,
   "metadata": {},
   "outputs": [],
   "source": [
    "#one-shot inference\n",
    "#evrything in an image with a prompt\n",
    "# !python seggpt_inference.py \\\n",
    "# --input_image examples/hmbb_2.jpg \\\n",
    "# --prompt_image examples/hmbb_1.jpg \\\n",
    "# --prompt_target examples/hmbb_1_target.png \\\n",
    "# --output_dir ./"
   ]
  },
  {
   "cell_type": "code",
   "execution_count": 40,
   "metadata": {},
   "outputs": [
    {
     "name": "stdout",
     "output_type": "stream",
     "text": [
      "Model loaded.\n",
      "Score: 0.42311891913414\n",
      "Finished.\n",
      "Model loaded.\n",
      "Score: 0.4005585312843323\n",
      "Finished.\n",
      "Model loaded.\n",
      "Score: 0.40533247590065\n",
      "Finished.\n",
      "Model loaded.\n",
      "Score: 0.3779354989528656\n",
      "Finished.\n",
      "Model loaded.\n",
      "Score: 0.38892513513565063\n",
      "Finished.\n",
      "Model loaded.\n",
      "Score: 0.347460001707077\n",
      "Finished.\n",
      "Model loaded.\n",
      "Score: 0.41652408242225647\n",
      "Finished.\n",
      "Model loaded.\n",
      "Score: 0.4174667298793793\n",
      "Finished.\n",
      "Model loaded.\n",
      "Score: 0.3833063542842865\n",
      "Finished.\n",
      "Model loaded.\n",
      "Score: 0.39106959104537964\n",
      "Finished.\n",
      "Model loaded.\n",
      "Score: 0.4137114882469177\n",
      "Finished.\n",
      "Model loaded.\n",
      "Score: 0.41468489170074463\n",
      "Finished.\n",
      "Model loaded.\n",
      "Score: 0.3951108455657959\n",
      "Finished.\n",
      "Model loaded.\n",
      "Score: 0.40031489729881287\n",
      "Finished.\n",
      "Model loaded.\n",
      "Score: 0.3900022506713867\n",
      "Finished.\n",
      "Model loaded.\n",
      "Score: 0.38097283244132996\n",
      "Finished.\n",
      "Model loaded.\n",
      "Score: 0.40083202719688416\n",
      "Finished.\n",
      "Model loaded.\n",
      "Score: 0.4035980999469757\n",
      "Finished.\n",
      "Model loaded.\n",
      "Score: 0.4075584411621094\n",
      "Finished.\n",
      "Model loaded.\n",
      "Score: 0.37490370869636536\n",
      "Finished.\n",
      "Model loaded.\n",
      "Score: 0.39540791511535645\n",
      "Finished.\n",
      "Model loaded.\n",
      "Score: 0.37916526198387146\n",
      "Finished.\n",
      "Model loaded.\n",
      "Score: 0.3918071687221527\n",
      "Finished.\n",
      "Model loaded.\n",
      "Score: 0.36764204502105713\n",
      "Finished.\n",
      "Model loaded.\n",
      "Score: 0.38427892327308655\n",
      "Finished.\n",
      "Model loaded.\n",
      "Score: 0.40574851632118225\n",
      "Finished.\n",
      "Model loaded.\n",
      "Score: 0.3649808168411255\n",
      "Finished.\n",
      "Model loaded.\n",
      "Score: 0.39945074915885925\n",
      "Finished.\n",
      "Model loaded.\n",
      "Score: 0.4105037748813629\n",
      "Finished.\n",
      "Model loaded.\n",
      "Score: 0.41421157121658325\n",
      "Finished.\n"
     ]
    }
   ],
   "source": [
    "import shutil\n",
    "prompt_images=\" \".join(_support_images[:1])\n",
    "prompt_labels=\" \".join(_support_labels[:1])\n",
    "\n",
    "# for image,label in test_filenames[:30]:\n",
    "#     image_,label_=os.path.join(images_folder, image), os.path.join(labels_folder, label)\n",
    "#     # shutil.copy(label_,\"/storage/scratch1/e18-4yp-medical-img-anno/Painter/SegGPT/SegGPT_inference/outputs/tufts/gt/\"+label)\n",
    "#     !python seggpt_inference.py --input_image $image_ \\\n",
    "#         --label_image $label_ \\\n",
    "#         --prompt_image $prompt_images \\\n",
    "#         --prompt_target $prompt_labels \\\n",
    "#         --output_dir outputs/isic/1\n",
    "\n",
    "for image_ in test_images[:30]:\n",
    "    label_=test_labels[test_images.index(image_)]\n",
    "    # image_,label_=os.path.join(images_folder, image), os.path.join(labels_folder, label)\n",
    "    # shutil.copy(label_,\"/storage/scratch1/e18-4yp-medical-img-anno/Painter/SegGPT/SegGPT_inference/outputs/tufts/gt/\"+os.path.basename(label_))\n",
    "    !python seggpt_inference.py --input_image $image_ \\\n",
    "        --label_image $label_ \\\n",
    "        --prompt_image $prompt_images \\\n",
    "        --prompt_target $prompt_labels \\\n",
    "        --output_dir outputs/oasis/1\n"
   ]
  },
  {
   "cell_type": "code",
   "execution_count": 41,
   "metadata": {},
   "outputs": [
    {
     "data": {
      "text/plain": [
       "0.39488611817359925"
      ]
     },
     "execution_count": 41,
     "metadata": {},
     "output_type": "execute_result"
    }
   ],
   "source": [
    "import numpy as np\n",
    "scores=[]\n",
    "score_file = os.path.join('/storage/scratch1/e18-4yp-medical-img-anno/Painter/SegGPT/SegGPT_inference/outputs/oasis/1', 'scores.txt')\n",
    "with open(score_file, 'r') as f:\n",
    "    for line in f.readlines():\n",
    "        score = float(line.strip())\n",
    "        scores.append(score)\n",
    "\n",
    "np.array(scores).mean()\n",
    "    "
   ]
  }
 ],
 "metadata": {
  "kernelspec": {
   "display_name": "test",
   "language": "python",
   "name": "python3"
  },
  "language_info": {
   "codemirror_mode": {
    "name": "ipython",
    "version": 3
   },
   "file_extension": ".py",
   "mimetype": "text/x-python",
   "name": "python",
   "nbconvert_exporter": "python",
   "pygments_lexer": "ipython3",
   "version": "3.10.14"
  }
 },
 "nbformat": 4,
 "nbformat_minor": 2
}
